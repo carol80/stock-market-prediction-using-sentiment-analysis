{
 "cells": [
  {
   "cell_type": "code",
   "execution_count": 142,
   "metadata": {
    "ExecuteTime": {
     "end_time": "2018-06-17T18:48:32.649907Z",
     "start_time": "2018-06-17T18:48:32.644910Z"
    }
   },
   "outputs": [],
   "source": [
    "import pandas as pd\n",
    "from sklearn.neural_network import MLPRegressor,MLPClassifier\n",
    "from sklearn.cross_validation import train_test_split\n",
    "from sklearn.metrics import r2_score,mean_absolute_error,mean_squared_error,mean_squared_log_error,median_absolute_error"
   ]
  },
  {
   "cell_type": "code",
   "execution_count": 143,
   "metadata": {
    "ExecuteTime": {
     "end_time": "2018-06-17T18:48:32.782903Z",
     "start_time": "2018-06-17T18:48:32.653910Z"
    }
   },
   "outputs": [],
   "source": [
    "df=pd.read_csv('final_data.csv')"
   ]
  },
  {
   "cell_type": "code",
   "execution_count": 144,
   "metadata": {
    "ExecuteTime": {
     "end_time": "2018-06-17T18:48:32.914917Z",
     "start_time": "2018-06-17T18:48:32.785906Z"
    }
   },
   "outputs": [
    {
     "data": {
      "text/html": [
       "<div>\n",
       "<style scoped>\n",
       "    .dataframe tbody tr th:only-of-type {\n",
       "        vertical-align: middle;\n",
       "    }\n",
       "\n",
       "    .dataframe tbody tr th {\n",
       "        vertical-align: top;\n",
       "    }\n",
       "\n",
       "    .dataframe thead th {\n",
       "        text-align: right;\n",
       "    }\n",
       "</style>\n",
       "<table border=\"1\" class=\"dataframe\">\n",
       "  <thead>\n",
       "    <tr style=\"text-align: right;\">\n",
       "      <th></th>\n",
       "      <th>Date</th>\n",
       "      <th>compound</th>\n",
       "      <th>neg</th>\n",
       "      <th>neu</th>\n",
       "      <th>pos</th>\n",
       "      <th>Close</th>\n",
       "    </tr>\n",
       "  </thead>\n",
       "  <tbody>\n",
       "    <tr>\n",
       "      <th>0</th>\n",
       "      <td>3-Jan-11</td>\n",
       "      <td>-0.8934</td>\n",
       "      <td>0.172</td>\n",
       "      <td>0.746</td>\n",
       "      <td>0.082</td>\n",
       "      <td>119.49</td>\n",
       "    </tr>\n",
       "    <tr>\n",
       "      <th>1</th>\n",
       "      <td>4-Jan-11</td>\n",
       "      <td>-0.6996</td>\n",
       "      <td>0.133</td>\n",
       "      <td>0.806</td>\n",
       "      <td>0.060</td>\n",
       "      <td>121.87</td>\n",
       "    </tr>\n",
       "    <tr>\n",
       "      <th>2</th>\n",
       "      <td>5-Jan-11</td>\n",
       "      <td>-0.9442</td>\n",
       "      <td>0.319</td>\n",
       "      <td>0.638</td>\n",
       "      <td>0.044</td>\n",
       "      <td>124.93</td>\n",
       "    </tr>\n",
       "    <tr>\n",
       "      <th>3</th>\n",
       "      <td>6-Jan-11</td>\n",
       "      <td>-0.7906</td>\n",
       "      <td>0.179</td>\n",
       "      <td>0.726</td>\n",
       "      <td>0.094</td>\n",
       "      <td>124.98</td>\n",
       "    </tr>\n",
       "    <tr>\n",
       "      <th>4</th>\n",
       "      <td>7-Jan-11</td>\n",
       "      <td>-0.5859</td>\n",
       "      <td>0.140</td>\n",
       "      <td>0.766</td>\n",
       "      <td>0.094</td>\n",
       "      <td>124.99</td>\n",
       "    </tr>\n",
       "  </tbody>\n",
       "</table>\n",
       "</div>"
      ],
      "text/plain": [
       "       Date  compound    neg    neu    pos   Close\n",
       "0  3-Jan-11   -0.8934  0.172  0.746  0.082  119.49\n",
       "1  4-Jan-11   -0.6996  0.133  0.806  0.060  121.87\n",
       "2  5-Jan-11   -0.9442  0.319  0.638  0.044  124.93\n",
       "3  6-Jan-11   -0.7906  0.179  0.726  0.094  124.98\n",
       "4  7-Jan-11   -0.5859  0.140  0.766  0.094  124.99"
      ]
     },
     "execution_count": 144,
     "metadata": {},
     "output_type": "execute_result"
    }
   ],
   "source": [
    "df.head()"
   ]
  },
  {
   "cell_type": "code",
   "execution_count": 145,
   "metadata": {
    "ExecuteTime": {
     "end_time": "2018-06-17T18:48:33.099990Z",
     "start_time": "2018-06-17T18:48:32.918918Z"
    }
   },
   "outputs": [],
   "source": [
    "X=df[['compound','neg','neu','pos']]\n",
    "Y=df[['Close']]     "
   ]
  },
  {
   "cell_type": "code",
   "execution_count": 146,
   "metadata": {
    "ExecuteTime": {
     "end_time": "2018-06-17T18:48:33.234908Z",
     "start_time": "2018-06-17T18:48:33.104994Z"
    }
   },
   "outputs": [],
   "source": [
    "X_train,X_test,Y_train,Y_test=train_test_split(X,Y,test_size=0.2)"
   ]
  },
  {
   "cell_type": "code",
   "execution_count": 147,
   "metadata": {
    "ExecuteTime": {
     "end_time": "2018-06-17T18:48:33.338629Z",
     "start_time": "2018-06-17T18:48:33.238904Z"
    }
   },
   "outputs": [],
   "source": [
    "# normalization\n",
    "from sklearn import preprocessing\n",
    "min_max_scalar=preprocessing.MinMaxScaler()\n",
    "X_train=min_max_scalar.fit_transform(X_train)\n",
    "X_test=min_max_scalar.fit_transform(X_test)\n",
    "Y_train=min_max_scalar.fit_transform(Y_train)\n",
    "Y_test=min_max_scalar.fit_transform(Y_test)"
   ]
  },
  {
   "cell_type": "code",
   "execution_count": 148,
   "metadata": {
    "ExecuteTime": {
     "end_time": "2018-06-17T18:48:33.466658Z",
     "start_time": "2018-06-17T18:48:33.342632Z"
    }
   },
   "outputs": [],
   "source": [
    "#normalization\n",
    "# from sklearn.preprocessing import StandardScaler\n",
    "# scalar=StandardScaler()\n",
    "# scalar.fit(X_train)\n",
    "# X_train=scalar.transform(X_train)\n",
    "# X_test=scalar.transform(X_test)"
   ]
  },
  {
   "cell_type": "code",
   "execution_count": 149,
   "metadata": {
    "ExecuteTime": {
     "end_time": "2018-06-17T18:48:33.561685Z",
     "start_time": "2018-06-17T18:48:33.470661Z"
    }
   },
   "outputs": [],
   "source": [
    "#change hidden layer,learning rate,activation function,validation fraction...etc\n",
    "# MLPC=MLPRegressor(activation='logistic',hidden_layer_sizes=(2,),solver='lbfgs',learning_rate='adaptive',max_iter=30000)\n",
    "# MLP=MLPRegressor(hidden_layer_sizes=(3,2), activation='logistic',solver='lbfgs', alpha=0.00001, learning_rate_init = 0.001, shuffle=False)\n",
    "# MLP=MLPClassifier(hidden_layer_sizes=(3,2),)\n",
    "MLP=MLPRegressor(hidden_layer_sizes=(3,2),learning_rate='adaptive')\n",
    "# MLP=MLPClassifier(hidden_layer_sizes=(100, 200, 100), activation='relu',solver='lbfgs', alpha=0.005, learning_rate_init = 0.001, shuffle=False)"
   ]
  },
  {
   "cell_type": "code",
   "execution_count": 150,
   "metadata": {
    "ExecuteTime": {
     "end_time": "2018-06-17T18:48:34.933936Z",
     "start_time": "2018-06-17T18:48:33.565688Z"
    }
   },
   "outputs": [
    {
     "name": "stderr",
     "output_type": "stream",
     "text": [
      "C:\\Users\\MY\\Anaconda3\\lib\\site-packages\\sklearn\\neural_network\\multilayer_perceptron.py:1306: DataConversionWarning: A column-vector y was passed when a 1d array was expected. Please change the shape of y to (n_samples, ), for example using ravel().\n",
      "  y = column_or_1d(y, warn=True)\n",
      "C:\\Users\\MY\\Anaconda3\\lib\\site-packages\\sklearn\\neural_network\\multilayer_perceptron.py:564: ConvergenceWarning: Stochastic Optimizer: Maximum iterations (200) reached and the optimization hasn't converged yet.\n",
      "  % self.max_iter, ConvergenceWarning)\n"
     ]
    },
    {
     "data": {
      "text/plain": [
       "MLPRegressor(activation='relu', alpha=0.0001, batch_size='auto', beta_1=0.9,\n",
       "       beta_2=0.999, early_stopping=False, epsilon=1e-08,\n",
       "       hidden_layer_sizes=(3, 2), learning_rate='adaptive',\n",
       "       learning_rate_init=0.001, max_iter=200, momentum=0.9,\n",
       "       nesterovs_momentum=True, power_t=0.5, random_state=None,\n",
       "       shuffle=True, solver='adam', tol=0.0001, validation_fraction=0.1,\n",
       "       verbose=False, warm_start=False)"
      ]
     },
     "execution_count": 150,
     "metadata": {},
     "output_type": "execute_result"
    }
   ],
   "source": [
    "MLP.fit(X_train,Y_train)"
   ]
  },
  {
   "cell_type": "code",
   "execution_count": 151,
   "metadata": {
    "ExecuteTime": {
     "end_time": "2018-06-17T18:48:34.943932Z",
     "start_time": "2018-06-17T18:48:34.937935Z"
    }
   },
   "outputs": [],
   "source": [
    "# MLP.intercepts_"
   ]
  },
  {
   "cell_type": "code",
   "execution_count": 152,
   "metadata": {
    "ExecuteTime": {
     "end_time": "2018-06-17T18:48:35.070936Z",
     "start_time": "2018-06-17T18:48:34.947935Z"
    }
   },
   "outputs": [],
   "source": [
    "# MLP.set_params()"
   ]
  },
  {
   "cell_type": "code",
   "execution_count": 153,
   "metadata": {
    "ExecuteTime": {
     "end_time": "2018-06-17T18:48:35.177959Z",
     "start_time": "2018-06-17T18:48:35.075936Z"
    }
   },
   "outputs": [],
   "source": [
    "# MLP.coefs_"
   ]
  },
  {
   "cell_type": "code",
   "execution_count": 154,
   "metadata": {
    "ExecuteTime": {
     "end_time": "2018-06-17T18:48:35.284775Z",
     "start_time": "2018-06-17T18:48:35.183963Z"
    }
   },
   "outputs": [],
   "source": [
    "Y_predicted=MLP.predict(X_test)"
   ]
  },
  {
   "cell_type": "code",
   "execution_count": 155,
   "metadata": {
    "ExecuteTime": {
     "end_time": "2018-06-17T18:48:35.393006Z",
     "start_time": "2018-06-17T18:48:35.290770Z"
    }
   },
   "outputs": [
    {
     "name": "stdout",
     "output_type": "stream",
     "text": [
      "-0.20328111921533254\n"
     ]
    }
   ],
   "source": [
    "print(r2_score(Y_test,Y_predicted))\n",
    "# print(mean_absolute_error(Y_test,Y_predicted))\n",
    "# print(mean_squared_error(Y_test,Y_predicted))\n",
    "# print(mean_squared_log_error(Y_test,Y_predicted))\n",
    "# print(median_absolute_error(Y_test,Y_predicted))"
   ]
  },
  {
   "cell_type": "code",
   "execution_count": 117,
   "metadata": {
    "ExecuteTime": {
     "end_time": "2018-06-15T06:21:15.418634Z",
     "start_time": "2018-06-15T06:21:15.237639Z"
    }
   },
   "outputs": [],
   "source": [
    "from sklearn.linear_model import LinearRegression"
   ]
  },
  {
   "cell_type": "code",
   "execution_count": 118,
   "metadata": {
    "ExecuteTime": {
     "end_time": "2018-06-15T06:21:15.624630Z",
     "start_time": "2018-06-15T06:21:15.427637Z"
    }
   },
   "outputs": [],
   "source": [
    "lr=LinearRegression()"
   ]
  },
  {
   "cell_type": "code",
   "execution_count": 4,
   "metadata": {
    "ExecuteTime": {
     "end_time": "2018-06-17T06:55:23.924422Z",
     "start_time": "2018-06-17T06:55:23.907423Z"
    }
   },
   "outputs": [
    {
     "ename": "NameError",
     "evalue": "name 'lr' is not defined",
     "output_type": "error",
     "traceback": [
      "\u001b[1;31m---------------------------------------------------------------------------\u001b[0m",
      "\u001b[1;31mNameError\u001b[0m                                 Traceback (most recent call last)",
      "\u001b[1;32m<ipython-input-4-489ba90286b7>\u001b[0m in \u001b[0;36m<module>\u001b[1;34m()\u001b[0m\n\u001b[1;32m----> 1\u001b[1;33m \u001b[0mlr\u001b[0m\u001b[1;33m.\u001b[0m\u001b[0mfit\u001b[0m\u001b[1;33m(\u001b[0m\u001b[0mX_train\u001b[0m\u001b[1;33m,\u001b[0m\u001b[0mY_train\u001b[0m\u001b[1;33m)\u001b[0m\u001b[1;33m\u001b[0m\u001b[0m\n\u001b[0m\u001b[0;32m      2\u001b[0m \u001b[0mlr_Y_predicted\u001b[0m\u001b[1;33m=\u001b[0m\u001b[0mlr\u001b[0m\u001b[1;33m.\u001b[0m\u001b[0mpredict\u001b[0m\u001b[1;33m(\u001b[0m\u001b[0mX_test\u001b[0m\u001b[1;33m)\u001b[0m\u001b[1;33m\u001b[0m\u001b[0m\n\u001b[0;32m      3\u001b[0m \u001b[0mprint\u001b[0m\u001b[1;33m(\u001b[0m\u001b[0mr2_score\u001b[0m\u001b[1;33m(\u001b[0m\u001b[0mY_test\u001b[0m\u001b[1;33m,\u001b[0m\u001b[0mlr_Y_predicted\u001b[0m\u001b[1;33m)\u001b[0m\u001b[1;33m)\u001b[0m\u001b[1;33m\u001b[0m\u001b[0m\n",
      "\u001b[1;31mNameError\u001b[0m: name 'lr' is not defined"
     ]
    }
   ],
   "source": [
    "lr.fit(X_train,Y_train)\n",
    "lr_Y_predicted=lr.predict(X_test)\n",
    "print(r2_score(Y_test,lr_Y_predicted))"
   ]
  },
  {
   "cell_type": "code",
   "execution_count": 209,
   "metadata": {
    "ExecuteTime": {
     "end_time": "2018-06-16T08:02:34.757385Z",
     "start_time": "2018-06-16T08:02:34.730389Z"
    }
   },
   "outputs": [],
   "source": [
    "import tensorflow as tf\n",
    "import tensorflow.contrib.learn as skflow"
   ]
  },
  {
   "cell_type": "code",
   "execution_count": 210,
   "metadata": {
    "ExecuteTime": {
     "end_time": "2018-06-16T08:02:35.654048Z",
     "start_time": "2018-06-16T08:02:35.243573Z"
    }
   },
   "outputs": [
    {
     "name": "stdout",
     "output_type": "stream",
     "text": [
      "INFO:tensorflow:Using default config.\n",
      "WARNING:tensorflow:Using temporary folder as model directory: C:\\Users\\MY\\AppData\\Local\\Temp\\tmp7b3tr1xe\n",
      "INFO:tensorflow:Using config: {'_task_type': None, '_task_id': 0, '_cluster_spec': <tensorflow.python.training.server_lib.ClusterSpec object at 0x000002071937F7B8>, '_master': '', '_num_ps_replicas': 0, '_num_worker_replicas': 0, '_environment': 'local', '_is_chief': True, '_evaluation_master': '', '_tf_config': gpu_options {\n",
      "  per_process_gpu_memory_fraction: 1.0\n",
      "}\n",
      ", '_tf_random_seed': None, '_save_summary_steps': 100, '_save_checkpoints_secs': 600, '_log_step_count_steps': 100, '_session_config': None, '_save_checkpoints_steps': None, '_keep_checkpoint_max': 5, '_keep_checkpoint_every_n_hours': 10000, '_model_dir': 'C:\\\\Users\\\\MY\\\\AppData\\\\Local\\\\Temp\\\\tmp7b3tr1xe'}\n"
     ]
    }
   ],
   "source": [
    "feature_columns = [tf.contrib.layers.real_valued_column(\"\", dimension=1)]\n",
    "DnnRegressor=skflow.DNNRegressor(hidden_units=[10,5],feature_columns=feature_columns)"
   ]
  },
  {
   "cell_type": "code",
   "execution_count": 211,
   "metadata": {
    "ExecuteTime": {
     "end_time": "2018-06-16T08:02:48.033901Z",
     "start_time": "2018-06-16T08:02:37.434092Z"
    }
   },
   "outputs": [
    {
     "name": "stdout",
     "output_type": "stream",
     "text": [
      "WARNING:tensorflow:float64 is not supported by many models, consider casting to float32.\n",
      "WARNING:tensorflow:float64 is not supported by many models, consider casting to float32.\n",
      "INFO:tensorflow:Create CheckpointSaverHook.\n",
      "INFO:tensorflow:Graph was finalized.\n",
      "INFO:tensorflow:Running local_init_op.\n",
      "INFO:tensorflow:Done running local_init_op.\n",
      "INFO:tensorflow:Saving checkpoints for 1 into C:\\Users\\MY\\AppData\\Local\\Temp\\tmp7b3tr1xe\\model.ckpt.\n",
      "INFO:tensorflow:loss = 0.09724259, step = 1\n",
      "INFO:tensorflow:global_step/sec: 163.936\n",
      "INFO:tensorflow:loss = 0.0498554, step = 101 (0.608 sec)\n",
      "INFO:tensorflow:global_step/sec: 183.828\n",
      "INFO:tensorflow:loss = 0.049805153, step = 201 (0.538 sec)\n",
      "INFO:tensorflow:global_step/sec: 187.974\n",
      "INFO:tensorflow:loss = 0.0497679, step = 301 (0.532 sec)\n",
      "INFO:tensorflow:global_step/sec: 186.919\n",
      "INFO:tensorflow:loss = 0.0497295, step = 401 (0.534 sec)\n",
      "INFO:tensorflow:global_step/sec: 192.31\n",
      "INFO:tensorflow:loss = 0.049692698, step = 501 (0.521 sec)\n",
      "INFO:tensorflow:global_step/sec: 187.268\n",
      "INFO:tensorflow:loss = 0.049666118, step = 601 (0.534 sec)\n",
      "INFO:tensorflow:global_step/sec: 185.831\n",
      "INFO:tensorflow:loss = 0.04963687, step = 701 (0.537 sec)\n",
      "INFO:tensorflow:global_step/sec: 185.877\n",
      "INFO:tensorflow:loss = 0.049583685, step = 801 (0.539 sec)\n",
      "INFO:tensorflow:global_step/sec: 193.426\n",
      "INFO:tensorflow:loss = 0.049474187, step = 901 (0.517 sec)\n",
      "INFO:tensorflow:Saving checkpoints for 1000 into C:\\Users\\MY\\AppData\\Local\\Temp\\tmp7b3tr1xe\\model.ckpt.\n",
      "INFO:tensorflow:Loss for final step: 0.049383312.\n"
     ]
    },
    {
     "data": {
      "text/plain": [
       "DNNRegressor(params={'head': <tensorflow.contrib.learn.python.learn.estimators.head._RegressionHead object at 0x000002071937FB00>, 'hidden_units': [10, 5], 'feature_columns': (_RealValuedColumn(column_name='', dimension=1, default_value=None, dtype=tf.float32, normalizer=None),), 'optimizer': None, 'activation_fn': <function relu at 0x000002071113FBF8>, 'dropout': None, 'gradient_clip_norm': None, 'embedding_lr_multipliers': None, 'input_layer_min_slice_size': None})"
      ]
     },
     "execution_count": 211,
     "metadata": {},
     "output_type": "execute_result"
    }
   ],
   "source": [
    "DnnRegressor.fit(X_train,Y_train,steps=1000)"
   ]
  },
  {
   "cell_type": "code",
   "execution_count": 212,
   "metadata": {
    "ExecuteTime": {
     "end_time": "2018-06-16T08:02:54.078454Z",
     "start_time": "2018-06-16T08:02:53.526442Z"
    }
   },
   "outputs": [
    {
     "name": "stdout",
     "output_type": "stream",
     "text": [
      "WARNING:tensorflow:float64 is not supported by many models, consider casting to float32.\n",
      "INFO:tensorflow:Graph was finalized.\n",
      "INFO:tensorflow:Restoring parameters from C:\\Users\\MY\\AppData\\Local\\Temp\\tmp7b3tr1xe\\model.ckpt-1000\n",
      "INFO:tensorflow:Running local_init_op.\n",
      "INFO:tensorflow:Done running local_init_op.\n"
     ]
    }
   ],
   "source": [
    "DNN_pred=DnnRegressor.predict(X_test)"
   ]
  },
  {
   "cell_type": "code",
   "execution_count": 213,
   "metadata": {
    "ExecuteTime": {
     "end_time": "2018-06-16T08:02:56.311563Z",
     "start_time": "2018-06-16T08:02:56.193810Z"
    }
   },
   "outputs": [],
   "source": [
    "DNN_pred=list(DNN_pred)"
   ]
  },
  {
   "cell_type": "code",
   "execution_count": 214,
   "metadata": {
    "ExecuteTime": {
     "end_time": "2018-06-16T08:03:00.760122Z",
     "start_time": "2018-06-16T08:03:00.747123Z"
    }
   },
   "outputs": [
    {
     "data": {
      "text/plain": [
       "-0.11979001774310216"
      ]
     },
     "execution_count": 214,
     "metadata": {},
     "output_type": "execute_result"
    }
   ],
   "source": [
    "r2_score(Y_test,DNN_pred)"
   ]
  },
  {
   "cell_type": "code",
   "execution_count": null,
   "metadata": {
    "ExecuteTime": {
     "end_time": "2018-06-15T06:21:26.980462Z",
     "start_time": "2018-06-15T06:21:13.261Z"
    }
   },
   "outputs": [],
   "source": [
    "0.011967755217398013"
   ]
  },
  {
   "cell_type": "code",
   "execution_count": null,
   "metadata": {
    "ExecuteTime": {
     "end_time": "2018-06-15T06:21:26.986462Z",
     "start_time": "2018-06-15T06:21:13.266Z"
    }
   },
   "outputs": [],
   "source": [
    "# DnnRegressor.evaluate   #check evaluate from this instance"
   ]
  },
  {
   "cell_type": "code",
   "execution_count": 127,
   "metadata": {
    "ExecuteTime": {
     "end_time": "2018-06-15T06:21:46.635361Z",
     "start_time": "2018-06-15T06:21:46.628362Z"
    }
   },
   "outputs": [],
   "source": [
    "from sklearn.ensemble import RandomForestRegressor"
   ]
  },
  {
   "cell_type": "code",
   "execution_count": 128,
   "metadata": {
    "ExecuteTime": {
     "end_time": "2018-06-15T06:21:48.168345Z",
     "start_time": "2018-06-15T06:21:48.163348Z"
    }
   },
   "outputs": [],
   "source": [
    "rfReg=RandomForestRegressor()"
   ]
  },
  {
   "cell_type": "code",
   "execution_count": 98,
   "metadata": {
    "ExecuteTime": {
     "end_time": "2018-06-15T06:12:51.115884Z",
     "start_time": "2018-06-15T06:12:50.712891Z"
    }
   },
   "outputs": [
    {
     "name": "stderr",
     "output_type": "stream",
     "text": [
      "C:\\Users\\MY\\Anaconda3\\lib\\site-packages\\ipykernel_launcher.py:1: DataConversionWarning: A column-vector y was passed when a 1d array was expected. Please change the shape of y to (n_samples,), for example using ravel().\n",
      "  \"\"\"Entry point for launching an IPython kernel.\n"
     ]
    },
    {
     "data": {
      "text/plain": [
       "RandomForestRegressor(bootstrap=True, criterion='mse', max_depth=None,\n",
       "           max_features='auto', max_leaf_nodes=None,\n",
       "           min_impurity_decrease=0.0, min_impurity_split=None,\n",
       "           min_samples_leaf=1, min_samples_split=2,\n",
       "           min_weight_fraction_leaf=0.0, n_estimators=10, n_jobs=1,\n",
       "           oob_score=False, random_state=None, verbose=0, warm_start=False)"
      ]
     },
     "execution_count": 98,
     "metadata": {},
     "output_type": "execute_result"
    }
   ],
   "source": [
    "rfReg.fit(X_train,Y_train)"
   ]
  },
  {
   "cell_type": "code",
   "execution_count": 99,
   "metadata": {
    "ExecuteTime": {
     "end_time": "2018-06-15T06:12:51.142884Z",
     "start_time": "2018-06-15T06:12:51.121886Z"
    }
   },
   "outputs": [],
   "source": [
    "rfPred=rfReg.predict(X_test)"
   ]
  },
  {
   "cell_type": "code",
   "execution_count": 100,
   "metadata": {
    "ExecuteTime": {
     "end_time": "2018-06-15T06:12:51.283882Z",
     "start_time": "2018-06-15T06:12:51.150884Z"
    }
   },
   "outputs": [
    {
     "data": {
      "text/plain": [
       "0.1760086727430279"
      ]
     },
     "execution_count": 100,
     "metadata": {},
     "output_type": "execute_result"
    }
   ],
   "source": [
    "r2_score(Y_test,rfPred)"
   ]
  },
  {
   "cell_type": "code",
   "execution_count": 134,
   "metadata": {
    "ExecuteTime": {
     "end_time": "2018-06-15T06:23:33.960822Z",
     "start_time": "2018-06-15T06:23:33.955821Z"
    }
   },
   "outputs": [],
   "source": [
    "from sklearn.model_selection import KFold,cross_val_predict"
   ]
  },
  {
   "cell_type": "code",
   "execution_count": 135,
   "metadata": {
    "ExecuteTime": {
     "end_time": "2018-06-15T06:23:35.770845Z",
     "start_time": "2018-06-15T06:23:35.539849Z"
    }
   },
   "outputs": [],
   "source": [
    "cv_pred=cross_val_predict(rfReg,X,Y.values.ravel())"
   ]
  },
  {
   "cell_type": "code",
   "execution_count": 136,
   "metadata": {
    "ExecuteTime": {
     "end_time": "2018-06-15T06:23:36.211838Z",
     "start_time": "2018-06-15T06:23:36.196839Z"
    }
   },
   "outputs": [
    {
     "data": {
      "text/plain": [
       "-0.6021631146342379"
      ]
     },
     "execution_count": 136,
     "metadata": {},
     "output_type": "execute_result"
    }
   ],
   "source": [
    "r2_score(Y,cv_pred)"
   ]
  },
  {
   "cell_type": "code",
   "execution_count": 2,
   "metadata": {
    "ExecuteTime": {
     "end_time": "2018-06-17T06:53:45.738336Z",
     "start_time": "2018-06-17T06:53:45.718337Z"
    }
   },
   "outputs": [
    {
     "data": {
      "text/plain": [
       "3"
      ]
     },
     "execution_count": 2,
     "metadata": {},
     "output_type": "execute_result"
    }
   ],
   "source": [
    "3"
   ]
  },
  {
   "cell_type": "code",
   "execution_count": null,
   "metadata": {},
   "outputs": [],
   "source": []
  }
 ],
 "metadata": {
  "kernelspec": {
   "display_name": "Python 3",
   "language": "python",
   "name": "python3"
  },
  "language_info": {
   "codemirror_mode": {
    "name": "ipython",
    "version": 3
   },
   "file_extension": ".py",
   "mimetype": "text/x-python",
   "name": "python",
   "nbconvert_exporter": "python",
   "pygments_lexer": "ipython3",
   "version": "3.6.5"
  },
  "varInspector": {
   "cols": {
    "lenName": 16,
    "lenType": 16,
    "lenVar": 40
   },
   "kernels_config": {
    "python": {
     "delete_cmd_postfix": "",
     "delete_cmd_prefix": "del ",
     "library": "var_list.py",
     "varRefreshCmd": "print(var_dic_list())"
    },
    "r": {
     "delete_cmd_postfix": ") ",
     "delete_cmd_prefix": "rm(",
     "library": "var_list.r",
     "varRefreshCmd": "cat(var_dic_list()) "
    }
   },
   "types_to_exclude": [
    "module",
    "function",
    "builtin_function_or_method",
    "instance",
    "_Feature"
   ],
   "window_display": false
  }
 },
 "nbformat": 4,
 "nbformat_minor": 2
}
