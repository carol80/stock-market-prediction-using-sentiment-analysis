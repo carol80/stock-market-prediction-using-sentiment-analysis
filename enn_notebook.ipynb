{
 "cells": [
  {
   "cell_type": "code",
   "execution_count": 2,
   "metadata": {
    "ExecuteTime": {
     "end_time": "2018-06-19T15:44:47.532008Z",
     "start_time": "2018-06-19T15:44:47.526007Z"
    },
    "scrolled": true
   },
   "outputs": [],
   "source": [
    "import pandas as pd\n",
    "import numpy as np\n",
    "import random, math"
   ]
  },
  {
   "cell_type": "code",
   "execution_count": 482,
   "metadata": {
    "ExecuteTime": {
     "end_time": "2018-06-18T04:05:59.500540Z",
     "start_time": "2018-06-18T04:05:59.207773Z"
    },
    "scrolled": true
   },
   "outputs": [],
   "source": [
    "random.seed(786)\n",
    "np.random.seed(786)"
   ]
  },
  {
   "cell_type": "code",
   "execution_count": 483,
   "metadata": {
    "ExecuteTime": {
     "end_time": "2018-06-18T04:06:01.230311Z",
     "start_time": "2018-06-18T04:05:59.591535Z"
    },
    "scrolled": true
   },
   "outputs": [],
   "source": [
    "df = pd.read_csv('final_data.csv')\n",
    "# df = df[['compound','neg','neu','pos','Close']]\n",
    "df = df[['neg','neu','pos','Close']]"
   ]
  },
  {
   "cell_type": "code",
   "execution_count": 484,
   "metadata": {
    "ExecuteTime": {
     "end_time": "2018-06-18T04:06:01.850338Z",
     "start_time": "2018-06-18T04:06:01.264321Z"
    }
   },
   "outputs": [],
   "source": [
    "from sklearn import preprocessing\n",
    "min_max_scalar=preprocessing.MinMaxScaler()\n",
    "data=min_max_scalar.fit_transform(df)\n",
    "# X_test=min_max_scalar.fit_transform(X_test)\n",
    "# Y_train=min_max_scalar.fit_transform(Y_train)\n",
    "# Y_test=min_max_scalar.fit_transform(Y_test)"
   ]
  },
  {
   "cell_type": "code",
   "execution_count": 485,
   "metadata": {
    "ExecuteTime": {
     "end_time": "2018-06-18T04:06:01.911332Z",
     "start_time": "2018-06-18T04:06:01.855334Z"
    },
    "scrolled": true
   },
   "outputs": [],
   "source": [
    "# df['Close']=df['Close']/400"
   ]
  },
  {
   "cell_type": "code",
   "execution_count": 486,
   "metadata": {
    "ExecuteTime": {
     "end_time": "2018-06-18T04:06:02.077348Z",
     "start_time": "2018-06-18T04:06:01.916333Z"
    }
   },
   "outputs": [],
   "source": [
    "# data = df.values.tolist()"
   ]
  },
  {
   "cell_type": "code",
   "execution_count": 487,
   "metadata": {
    "ExecuteTime": {
     "end_time": "2018-06-18T04:06:02.327388Z",
     "start_time": "2018-06-18T04:06:02.083342Z"
    },
    "scrolled": true
   },
   "outputs": [],
   "source": [
    "data = data.tolist()"
   ]
  },
  {
   "cell_type": "code",
   "execution_count": 488,
   "metadata": {
    "ExecuteTime": {
     "end_time": "2018-06-18T04:06:02.566386Z",
     "start_time": "2018-06-18T04:06:02.332389Z"
    },
    "scrolled": true
   },
   "outputs": [],
   "source": [
    "inner_threshold = 0.005;\n",
    "rate_var = 0;\n",
    "\n",
    "final_ansr = []"
   ]
  },
  {
   "cell_type": "code",
   "execution_count": 489,
   "metadata": {
    "ExecuteTime": {
     "end_time": "2018-06-18T04:06:02.767445Z",
     "start_time": "2018-06-18T04:06:02.573391Z"
    },
    "scrolled": true
   },
   "outputs": [],
   "source": [
    "sigmoid=lambda x:1/(1+math.e**(-x))"
   ]
  },
  {
   "cell_type": "code",
   "execution_count": 490,
   "metadata": {
    "ExecuteTime": {
     "end_time": "2018-06-18T04:06:03.056530Z",
     "start_time": "2018-06-18T04:06:02.772443Z"
    },
    "scrolled": true
   },
   "outputs": [],
   "source": [
    "def fit_func(rec, i):\n",
    "    x1, x2, x3, y = i[0], i[1], i[2], i[3]\n",
    "\n",
    "    out4 = (x1 * rec['data']['w14']) + (x2 * rec['data']['w24']) + (x3 * rec['data']['w34']) + rec['data']['o4']\n",
    "    out4 = sigmoid(out4)\n",
    "\n",
    "    out5 = (x1 * rec['data']['w15']) + (x2 * rec['data']['w25']) + (x3 * rec['data']['w35']) + rec['data']['o5']\n",
    "    out5 = sigmoid(out5)\n",
    "\n",
    "    out6 = (out4 * rec['data']['w46']) + (out5 * rec['data']['w56']) + rec['data']['o6']\n",
    "    out6 = sigmoid(out6)\n",
    "\n",
    "    err6 = out6 * (1 - out6) * (y - out6)\n",
    "\n",
    "    if abs(err6) <= inner_threshold:\n",
    "        # final_ansr.append(out6 * 20000)\n",
    "        rec['fitness'] += 1\n"
   ]
  },
  {
   "cell_type": "code",
   "execution_count": 491,
   "metadata": {
    "ExecuteTime": {
     "end_time": "2018-06-18T04:06:03.298151Z",
     "start_time": "2018-06-18T04:06:03.062530Z"
    },
    "scrolled": true
   },
   "outputs": [],
   "source": [
    "nList = [];\n",
    "m = 20;\n",
    "n = 25;\n",
    "mutation_prob = 75;\n",
    "mutation = 0.5;"
   ]
  },
  {
   "cell_type": "code",
   "execution_count": 492,
   "metadata": {
    "ExecuteTime": {
     "end_time": "2018-06-18T04:06:03.551147Z",
     "start_time": "2018-06-18T04:06:03.303153Z"
    },
    "scrolled": true
   },
   "outputs": [],
   "source": [
    "# ranges for weights & biases\n",
    "wl = -1;\n",
    "wr = 1;\n",
    "bl =0;\n",
    "br = 1"
   ]
  },
  {
   "cell_type": "code",
   "execution_count": 493,
   "metadata": {
    "ExecuteTime": {
     "end_time": "2018-06-18T04:06:03.799163Z",
     "start_time": "2018-06-18T04:06:03.555149Z"
    },
    "scrolled": true
   },
   "outputs": [],
   "source": [
    "for i in range(n):\n",
    "    # floating random weights\n",
    "    w14, w15, w24, w25, w34, w35, w46, w56 = np.random.uniform(wl, wr, 8)\n",
    "    # floating random biases\n",
    "    o4, o5, o6 = np.random.uniform(bl, br, 3)\n",
    "\n",
    "    nList.append({'data': {'w14': w14, 'w15': w15, 'w24': w24, 'w25': w25, 'w34': w34, 'w35': w35, 'w46': w46,\n",
    "                           'w56': w56, 'o4': o4, 'o5': o5, 'o6': o6}, 'fitness': 0})"
   ]
  },
  {
   "cell_type": "code",
   "execution_count": 494,
   "metadata": {
    "ExecuteTime": {
     "end_time": "2018-06-18T04:06:04.793175Z",
     "start_time": "2018-06-18T04:06:03.806168Z"
    },
    "scrolled": true
   },
   "outputs": [
    {
     "name": "stdout",
     "output_type": "stream",
     "text": [
      "174\n",
      "29\n",
      "172\n",
      "173\n",
      "178\n",
      "25\n",
      "60\n",
      "50\n",
      "112\n",
      "24\n",
      "46\n",
      "62\n",
      "59\n",
      "177\n",
      "29\n",
      "113\n",
      "24\n",
      "19\n",
      "55\n",
      "22\n",
      "174\n",
      "28\n",
      "102\n",
      "51\n",
      "28\n"
     ]
    }
   ],
   "source": [
    "# fitness calculation for first time/initial population\n",
    "for rec in nList:\n",
    "    for i in data:\n",
    "        fit_func(rec, i)\n",
    "        \n",
    "    print(rec['fitness'])"
   ]
  },
  {
   "cell_type": "code",
   "execution_count": 495,
   "metadata": {
    "ExecuteTime": {
     "end_time": "2018-06-18T04:06:04.807174Z",
     "start_time": "2018-06-18T04:06:04.798175Z"
    },
    "scrolled": true
   },
   "outputs": [],
   "source": [
    "count = 0;\n",
    "final_rec = 0\n",
    "flag = False\n",
    "stop_at=1000"
   ]
  },
  {
   "cell_type": "code",
   "execution_count": 496,
   "metadata": {
    "ExecuteTime": {
     "end_time": "2018-06-18T04:07:16.109349Z",
     "start_time": "2018-06-18T04:06:04.813175Z"
    },
    "code_folding": [],
    "scrolled": true
   },
   "outputs": [
    {
     "name": "stdout",
     "output_type": "stream",
     "text": [
      "gen: 1\n",
      "gen: 2\n",
      "gen: 3\n",
      "gen: 4\n",
      "gen: 5\n",
      "gen: 6\n",
      "gen: 7\n",
      "gen: 8\n",
      "gen: 9\n",
      "gen: 10\n",
      "gen: 11\n",
      "gen: 12\n",
      "gen: 13\n",
      "gen: 14\n",
      "gen: 15\n",
      "gen: 16\n",
      "gen: 17\n",
      "gen: 18\n",
      "gen: 19\n",
      "gen: 20\n",
      "gen: 21\n",
      "gen: 22\n",
      "gen: 23\n",
      "gen: 24\n",
      "gen: 25\n",
      "gen: 26\n",
      "gen: 27\n",
      "gen: 28\n",
      "gen: 29\n",
      "gen: 30\n",
      "gen: 31\n",
      "gen: 32\n",
      "gen: 33\n",
      "gen: 34\n",
      "gen: 35\n",
      "gen: 36\n",
      "gen: 37\n",
      "gen: 38\n",
      "gen: 39\n",
      "gen: 40\n",
      "gen: 41\n",
      "gen: 42\n",
      "gen: 43\n",
      "gen: 44\n",
      "gen: 45\n",
      "gen: 46\n",
      "gen: 47\n",
      "gen: 48\n",
      "gen: 49\n",
      "gen: 50\n",
      "gen: 51\n",
      "gen: 52\n",
      "gen: 53\n",
      "gen: 54\n",
      "gen: 55\n",
      "gen: 56\n",
      "gen: 57\n",
      "gen: 58\n",
      "gen: 59\n",
      "gen: 60\n",
      "gen: 61\n",
      "gen: 62\n",
      "gen: 63\n",
      "gen: 64\n",
      "gen: 65\n",
      "gen: 66\n",
      "gen: 67\n",
      "gen: 68\n",
      "gen: 69\n",
      "gen: 70\n",
      "gen: 71\n",
      "gen: 72\n",
      "gen: 73\n",
      "gen: 74\n",
      "gen: 75\n",
      "gen: 76\n",
      "gen: 77\n",
      "gen: 78\n",
      "gen: 79\n",
      "gen: 80\n",
      "gen: 81\n",
      "gen: 82\n",
      "gen: 83\n",
      "gen: 84\n",
      "gen: 85\n",
      "gen: 86\n",
      "gen: 87\n",
      "gen: 88\n",
      "gen: 89\n",
      "gen: 90\n",
      "gen: 91\n",
      "gen: 92\n",
      "gen: 93\n",
      "gen: 94\n",
      "gen: 95\n",
      "gen: 96\n",
      "gen: 97\n",
      "gen: 98\n",
      "gen: 99\n",
      "gen: 100\n",
      "gen: 101\n",
      "gen: 102\n",
      "gen: 103\n",
      "gen: 104\n",
      "gen: 105\n",
      "gen: 106\n",
      "gen: 107\n",
      "gen: 108\n",
      "gen: 109\n",
      "gen: 110\n",
      "gen: 111\n",
      "gen: 112\n",
      "gen: 113\n"
     ]
    },
    {
     "ename": "KeyboardInterrupt",
     "evalue": "",
     "output_type": "error",
     "traceback": [
      "\u001b[1;31m---------------------------------------------------------------------------\u001b[0m",
      "\u001b[1;31mKeyboardInterrupt\u001b[0m                         Traceback (most recent call last)",
      "\u001b[1;32m<ipython-input-496-96fc4ea3bc67>\u001b[0m in \u001b[0;36m<module>\u001b[1;34m()\u001b[0m\n\u001b[0;32m     87\u001b[0m         \u001b[1;32mfor\u001b[0m \u001b[0mrec\u001b[0m \u001b[1;32min\u001b[0m \u001b[1;33m[\u001b[0m\u001b[0mch1\u001b[0m\u001b[1;33m,\u001b[0m \u001b[0mch2\u001b[0m\u001b[1;33m]\u001b[0m\u001b[1;33m:\u001b[0m\u001b[1;33m\u001b[0m\u001b[0m\n\u001b[0;32m     88\u001b[0m             \u001b[1;32mfor\u001b[0m \u001b[0mi\u001b[0m \u001b[1;32min\u001b[0m \u001b[0mdata\u001b[0m\u001b[1;33m:\u001b[0m\u001b[1;33m\u001b[0m\u001b[0m\n\u001b[1;32m---> 89\u001b[1;33m                 \u001b[0mfit_func\u001b[0m\u001b[1;33m(\u001b[0m\u001b[0mrec\u001b[0m\u001b[1;33m,\u001b[0m \u001b[0mi\u001b[0m\u001b[1;33m)\u001b[0m\u001b[1;33m\u001b[0m\u001b[0m\n\u001b[0m\u001b[0;32m     90\u001b[0m \u001b[1;33m\u001b[0m\u001b[0m\n\u001b[0;32m     91\u001b[0m         \u001b[0mmList\u001b[0m\u001b[1;33m.\u001b[0m\u001b[0mappend\u001b[0m\u001b[1;33m(\u001b[0m\u001b[0mch1\u001b[0m\u001b[1;33m)\u001b[0m\u001b[1;33m\u001b[0m\u001b[0m\n",
      "\u001b[1;32m<ipython-input-490-fce0914d0d8e>\u001b[0m in \u001b[0;36mfit_func\u001b[1;34m(rec, i)\u001b[0m\n\u001b[0;32m      3\u001b[0m \u001b[1;33m\u001b[0m\u001b[0m\n\u001b[0;32m      4\u001b[0m     \u001b[0mout4\u001b[0m \u001b[1;33m=\u001b[0m \u001b[1;33m(\u001b[0m\u001b[0mx1\u001b[0m \u001b[1;33m*\u001b[0m \u001b[0mrec\u001b[0m\u001b[1;33m[\u001b[0m\u001b[1;34m'data'\u001b[0m\u001b[1;33m]\u001b[0m\u001b[1;33m[\u001b[0m\u001b[1;34m'w14'\u001b[0m\u001b[1;33m]\u001b[0m\u001b[1;33m)\u001b[0m \u001b[1;33m+\u001b[0m \u001b[1;33m(\u001b[0m\u001b[0mx2\u001b[0m \u001b[1;33m*\u001b[0m \u001b[0mrec\u001b[0m\u001b[1;33m[\u001b[0m\u001b[1;34m'data'\u001b[0m\u001b[1;33m]\u001b[0m\u001b[1;33m[\u001b[0m\u001b[1;34m'w24'\u001b[0m\u001b[1;33m]\u001b[0m\u001b[1;33m)\u001b[0m \u001b[1;33m+\u001b[0m \u001b[1;33m(\u001b[0m\u001b[0mx3\u001b[0m \u001b[1;33m*\u001b[0m \u001b[0mrec\u001b[0m\u001b[1;33m[\u001b[0m\u001b[1;34m'data'\u001b[0m\u001b[1;33m]\u001b[0m\u001b[1;33m[\u001b[0m\u001b[1;34m'w34'\u001b[0m\u001b[1;33m]\u001b[0m\u001b[1;33m)\u001b[0m \u001b[1;33m+\u001b[0m \u001b[0mrec\u001b[0m\u001b[1;33m[\u001b[0m\u001b[1;34m'data'\u001b[0m\u001b[1;33m]\u001b[0m\u001b[1;33m[\u001b[0m\u001b[1;34m'o4'\u001b[0m\u001b[1;33m]\u001b[0m\u001b[1;33m\u001b[0m\u001b[0m\n\u001b[1;32m----> 5\u001b[1;33m     \u001b[0mout4\u001b[0m \u001b[1;33m=\u001b[0m \u001b[0msigmoid\u001b[0m\u001b[1;33m(\u001b[0m\u001b[0mout4\u001b[0m\u001b[1;33m)\u001b[0m\u001b[1;33m\u001b[0m\u001b[0m\n\u001b[0m\u001b[0;32m      6\u001b[0m \u001b[1;33m\u001b[0m\u001b[0m\n\u001b[0;32m      7\u001b[0m     \u001b[0mout5\u001b[0m \u001b[1;33m=\u001b[0m \u001b[1;33m(\u001b[0m\u001b[0mx1\u001b[0m \u001b[1;33m*\u001b[0m \u001b[0mrec\u001b[0m\u001b[1;33m[\u001b[0m\u001b[1;34m'data'\u001b[0m\u001b[1;33m]\u001b[0m\u001b[1;33m[\u001b[0m\u001b[1;34m'w15'\u001b[0m\u001b[1;33m]\u001b[0m\u001b[1;33m)\u001b[0m \u001b[1;33m+\u001b[0m \u001b[1;33m(\u001b[0m\u001b[0mx2\u001b[0m \u001b[1;33m*\u001b[0m \u001b[0mrec\u001b[0m\u001b[1;33m[\u001b[0m\u001b[1;34m'data'\u001b[0m\u001b[1;33m]\u001b[0m\u001b[1;33m[\u001b[0m\u001b[1;34m'w25'\u001b[0m\u001b[1;33m]\u001b[0m\u001b[1;33m)\u001b[0m \u001b[1;33m+\u001b[0m \u001b[1;33m(\u001b[0m\u001b[0mx3\u001b[0m \u001b[1;33m*\u001b[0m \u001b[0mrec\u001b[0m\u001b[1;33m[\u001b[0m\u001b[1;34m'data'\u001b[0m\u001b[1;33m]\u001b[0m\u001b[1;33m[\u001b[0m\u001b[1;34m'w35'\u001b[0m\u001b[1;33m]\u001b[0m\u001b[1;33m)\u001b[0m \u001b[1;33m+\u001b[0m \u001b[0mrec\u001b[0m\u001b[1;33m[\u001b[0m\u001b[1;34m'data'\u001b[0m\u001b[1;33m]\u001b[0m\u001b[1;33m[\u001b[0m\u001b[1;34m'o5'\u001b[0m\u001b[1;33m]\u001b[0m\u001b[1;33m\u001b[0m\u001b[0m\n",
      "\u001b[1;31mKeyboardInterrupt\u001b[0m: "
     ]
    }
   ],
   "source": [
    "while (1):\n",
    "    count += 1\n",
    "    mList = []\n",
    "\n",
    "    print(f\"gen: {count}\")\n",
    "\n",
    "    if count > stop_at:\n",
    "        final_rec = sorted(nList, key=lambda f: f['fitness'], reverse=True)[0]\n",
    "        break\n",
    "\n",
    "    rec_num = 0\n",
    "    for rec in nList:\n",
    "        # print(\"rec_index: {}\".format(rec_num))\n",
    "        rec_num += 1\n",
    "        if rec['fitness'] == len(data):\n",
    "            print(\"rec_index: {}\".format(rec_num))\n",
    "            final_rec = rec\n",
    "            # print('gen: {}'.format(count))\n",
    "            print('Answer: {}'.format(rec))\n",
    "            flag = True\n",
    "            break\n",
    "\n",
    "    if flag:\n",
    "        break\n",
    "\n",
    "    for j in range(int(m / 2)):\n",
    "        # randomly parent selection(not same)\n",
    "        # t=temp\n",
    "\n",
    "        t = random.sample(range(n), 2)\n",
    "\n",
    "        p1 = nList[t[0]]\n",
    "        p2 = nList[t[1]]\n",
    "\n",
    "        # crossover\n",
    "        ch1 = list(p1['data'].values())[:5] + list(p2['data'].values())[5:]\n",
    "        ch2 = list(p2['data'].values())[:5] + list(p1['data'].values())[5:]\n",
    "\n",
    "        # mutation work\n",
    "        for k in [ch1, ch2]:\n",
    "            if random.randint(0, 100) <= mutation_prob:\n",
    "                # get random for mutation in weights\n",
    "                t = random.sample(range(8), 3)\n",
    "                # get random for mutation in bias\n",
    "                t1 = random.randint(8, 10)\n",
    "                # odd,do +ve\n",
    "                if random.randint(1, 2) == 1:\n",
    "                    # mutation in weights\n",
    "                    if (k[t[0]] + mutation) >= wl and (k[t[0]] + mutation) <= wr:\n",
    "                        k[t[0]] += mutation\n",
    "\n",
    "                    if (k[t[1]] + mutation) >= wl and (k[t[1]] + mutation) <= wr:\n",
    "                        k[t[1]] += mutation\n",
    "\n",
    "                    if (k[t[2]] + mutation) >= wl and (k[t[2]] + mutation) <= wr:\n",
    "                        k[t[2]] += mutation\n",
    "\n",
    "                    # mutation in bias\n",
    "                    if (k[t1] + mutation) >= bl and (k[t1] + mutation) <= br:\n",
    "                        k[t1] += mutation\n",
    "\n",
    "                # even,do -ve\n",
    "                else:\n",
    "                    # mutation in weights\n",
    "                    if (k[t[0]] - mutation) >= wl and (k[t[0]] - mutation) <= wr:\n",
    "                        k[t[0]] -= mutation\n",
    "\n",
    "                    if (k[t[1]] - mutation) >= wl and (k[t[1]] - mutation) <= wr:\n",
    "                        k[t[1]] -= mutation\n",
    "\n",
    "                    if (k[t[2]] - mutation) >= wl and (k[t[2]] - mutation) <= wr:\n",
    "                        k[t[2]] -= mutation\n",
    "\n",
    "                    # mutation in bias\n",
    "                    if (k[t1] - mutation) >= bl and (k[t1] - mutation) <= br:\n",
    "                        k[t1] -= mutation\n",
    "\n",
    "        ch1 = {'data': {'w14': ch1[0], 'w15': ch1[1], 'w24': ch1[2], 'w25': ch1[3], 'w34': ch1[4], 'w35': ch1[5],\n",
    "                        'w46': ch1[6],\n",
    "                        'w56': ch1[7], 'o4': ch1[8], 'o5': ch1[9], 'o6': ch1[10]}, 'fitness': 0}\n",
    "\n",
    "        ch2 = {'data': {'w14': ch2[0], 'w15': ch2[1], 'w24': ch2[2], 'w25': ch2[3], 'w34': ch2[4], 'w35': ch2[5],\n",
    "                        'w46': ch2[6],\n",
    "                        'w56': ch2[7], 'o4': ch2[8], 'o5': ch2[9], 'o6': ch2[10]}, 'fitness': 0}\n",
    "\n",
    "        # calculate fitness of children\n",
    "        for rec in [ch1, ch2]:\n",
    "            for i in data:\n",
    "                fit_func(rec, i)\n",
    "\n",
    "        mList.append(ch1)\n",
    "        mList.append(ch2)\n",
    "\n",
    "    # combine both mList and nList and sort it with respect fit func value,also ovverides the nList,so we used in next iteration\n",
    "\n",
    "    nList = sorted(nList + mList, key=lambda item: item['fitness'], reverse=True)[:25]\n"
   ]
  },
  {
   "cell_type": "code",
   "execution_count": null,
   "metadata": {
    "ExecuteTime": {
     "end_time": "2018-06-18T04:07:16.111347Z",
     "start_time": "2018-06-18T04:05:56.922Z"
    },
    "scrolled": true
   },
   "outputs": [],
   "source": [
    "for i in data:\n",
    "    x1, x2, x3, y = i[0], i[1], i[2], i[3]\n",
    "\n",
    "    out4 = (x1 * final_rec['data']['w14']) + (x2 * final_rec['data']['w24']) + (x3 * final_rec['data']['w34']) + final_rec['data']['o4']\n",
    "    out4 = sigmoid(out4)\n",
    "\n",
    "    out5 = (x1 * final_rec['data']['w15']) + (x2 * final_rec['data']['w25']) + (x3 * final_rec['data']['w35']) + final_rec['data']['o5']\n",
    "    out5 = sigmoid(out5)\n",
    "\n",
    "    out6 = (out4 * final_rec['data']['w46']) + (out5 * final_rec['data']['w56']) + final_rec['data']['o6']\n",
    "    out6 =  sigmoid(out6)\n",
    "\n",
    "    final_ansr.append(out6)"
   ]
  },
  {
   "cell_type": "code",
   "execution_count": null,
   "metadata": {
    "ExecuteTime": {
     "end_time": "2018-06-18T04:07:16.117348Z",
     "start_time": "2018-06-18T04:05:56.926Z"
    },
    "scrolled": true
   },
   "outputs": [],
   "source": [
    "# final_ansr=final_ansr[-len(data):]\n",
    "df['Y-ENN'] = pd.DataFrame(final_ansr)\n",
    "df.to_csv('NN-DATA2.csv', index=False)"
   ]
  },
  {
   "cell_type": "code",
   "execution_count": null,
   "metadata": {},
   "outputs": [],
   "source": []
  },
  {
   "cell_type": "code",
   "execution_count": null,
   "metadata": {
    "ExecuteTime": {
     "end_time": "2018-06-18T04:07:16.126348Z",
     "start_time": "2018-06-18T04:05:56.932Z"
    },
    "scrolled": true
   },
   "outputs": [],
   "source": [
    "from sklearn.metrics import r2_score\n",
    "r2_score(np.array(data)[:,3],df['Y-ENN'])"
   ]
  },
  {
   "cell_type": "code",
   "execution_count": 497,
   "metadata": {
    "ExecuteTime": {
     "end_time": "2018-06-18T07:15:00.437954Z",
     "start_time": "2018-06-18T07:14:59.364901Z"
    }
   },
   "outputs": [
    {
     "data": {
      "text/plain": [
       "[]"
      ]
     },
     "execution_count": 497,
     "metadata": {},
     "output_type": "execute_result"
    }
   ],
   "source": [
    "final_ansr"
   ]
  },
  {
   "cell_type": "code",
   "execution_count": null,
   "metadata": {
    "ExecuteTime": {
     "end_time": "2018-06-18T04:07:16.232345Z",
     "start_time": "2018-06-18T04:05:56.938Z"
    }
   },
   "outputs": [],
   "source": [
    "np.array(data)[:,3]"
   ]
  },
  {
   "cell_type": "code",
   "execution_count": null,
   "metadata": {
    "ExecuteTime": {
     "end_time": "2018-06-18T04:07:16.237348Z",
     "start_time": "2018-06-18T04:05:56.945Z"
    },
    "scrolled": true
   },
   "outputs": [],
   "source": [
    "-11.580005159157485"
   ]
  }
 ],
 "metadata": {
  "kernelspec": {
   "display_name": "Python 3",
   "language": "python",
   "name": "python3"
  },
  "language_info": {
   "codemirror_mode": {
    "name": "ipython",
    "version": 3
   },
   "file_extension": ".py",
   "mimetype": "text/x-python",
   "name": "python",
   "nbconvert_exporter": "python",
   "pygments_lexer": "ipython3",
   "version": "3.6.5"
  },
  "varInspector": {
   "cols": {
    "lenName": 16,
    "lenType": 16,
    "lenVar": 40
   },
   "kernels_config": {
    "python": {
     "delete_cmd_postfix": "",
     "delete_cmd_prefix": "del ",
     "library": "var_list.py",
     "varRefreshCmd": "print(var_dic_list())"
    },
    "r": {
     "delete_cmd_postfix": ") ",
     "delete_cmd_prefix": "rm(",
     "library": "var_list.r",
     "varRefreshCmd": "cat(var_dic_list()) "
    }
   },
   "types_to_exclude": [
    "module",
    "function",
    "builtin_function_or_method",
    "instance",
    "_Feature"
   ],
   "window_display": false
  }
 },
 "nbformat": 4,
 "nbformat_minor": 2
}
